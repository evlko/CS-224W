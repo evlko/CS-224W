{
  "cells": [
    {
      "cell_type": "code",
      "execution_count": 1,
      "metadata": {
        "id": "B_dmMvcbnxrP"
      },
      "outputs": [],
      "source": [
        "import pandas as pd\n",
        "import numpy as np\n",
        "\n",
        "import warnings\n",
        "warnings.filterwarnings('ignore')"
      ]
    },
    {
      "cell_type": "markdown",
      "metadata": {
        "id": "2qHKv7vkoAaE"
      },
      "source": [
        "Скачиваем нужные данные:"
      ]
    },
    {
      "cell_type": "code",
      "execution_count": 2,
      "metadata": {
        "id": "IkbRg1Yyn-He"
      },
      "outputs": [],
      "source": [
        "tweets = pd.read_csv('https://raw.githubusercontent.com/evlko/CS-224W/main/Data/Twitter/tweets_covid19_GL.csv')"
      ]
    },
    {
      "cell_type": "markdown",
      "metadata": {
        "id": "JPzdf-dkoA-x"
      },
      "source": [
        "# Preprocessing "
      ]
    },
    {
      "cell_type": "code",
      "execution_count": 3,
      "metadata": {
        "colab": {
          "base_uri": "https://localhost:8080/"
        },
        "id": "SDH5ivoGoDJY",
        "outputId": "7d26aa83-947b-4a1f-d966-a9ad8d5da0c8"
      },
      "outputs": [
        {
          "output_type": "execute_result",
          "data": {
            "text/plain": [
              "True"
            ]
          },
          "metadata": {},
          "execution_count": 3
        }
      ],
      "source": [
        "import nltk\n",
        "import re\n",
        "from nltk import WordNetLemmatizer\n",
        "from nltk.corpus import stopwords\n",
        "from nltk.tokenize import word_tokenize\n",
        "\n",
        "nltk.download('wordnet', quiet=True)\n",
        "nltk.download('omw-1.4', quiet=True)\n",
        "nltk.download('stopwords', quiet=True)\n",
        "nltk.download('punkt', quiet=True)\n",
        "nltk.download('movie_reviews', quiet=True)"
      ]
    },
    {
      "cell_type": "markdown",
      "metadata": {
        "id": "QPQphNtKoEn3"
      },
      "source": [
        "Совершенно стандратный препроцессинг для текста "
      ]
    },
    {
      "cell_type": "code",
      "execution_count": 4,
      "metadata": {
        "id": "EwAdwQQHoGOu"
      },
      "outputs": [],
      "source": [
        "lemmatizer = WordNetLemmatizer()\n",
        "stop_words = set(stopwords.words('english'))"
      ]
    },
    {
      "cell_type": "code",
      "execution_count": 5,
      "metadata": {
        "id": "AAXcQvkuoIhX"
      },
      "outputs": [],
      "source": [
        "def remove_words_with_sym(text, symbol='#'):\n",
        "  return re.sub(r'{}[^\\s]*'.format(symbol), '', text)\n",
        "\n",
        "assert remove_words_with_sym('Hello, it\\'s a me, Mario!, #Top') == 'Hello, it\\'s a me, Mario!, '\n",
        "assert remove_words_with_sym('Hello, it\\'s a me, @Mario!', '@') == 'Hello, it\\'s a me, '"
      ]
    },
    {
      "cell_type": "code",
      "execution_count": 6,
      "metadata": {
        "id": "b05OjIn3oJsW"
      },
      "outputs": [],
      "source": [
        "def preprocess(text, special_symbols=['#', '@', 'http', 'pic twitter c']):\n",
        "    for special_symbol in special_symbols:\n",
        "      text = remove_words_with_sym(text, special_symbol)\n",
        "    text = re.sub(r'[^a-zA-Z\\s]', '', text).replace('_', '')\n",
        "    text = text.lower()\n",
        "    text = [lemmatizer.lemmatize(word) for word in word_tokenize(text) if lemmatizer.lemmatize(word) not in stop_words] \n",
        "    text = ' '.join(text)\n",
        "\n",
        "    return text\n",
        "\n",
        "assert preprocess('Hello, it\\'s a me, Mario!') == 'hello mario'"
      ]
    },
    {
      "cell_type": "markdown",
      "metadata": {
        "id": "oE2Sm_tnoLAe"
      },
      "source": [
        "Обрабатываем необходимые данные:"
      ]
    },
    {
      "cell_type": "code",
      "execution_count": 7,
      "metadata": {
        "id": "iabvPzvfoLPj"
      },
      "outputs": [],
      "source": [
        "tweets['text'] = tweets['text'].apply(preprocess)"
      ]
    },
    {
      "cell_type": "markdown",
      "metadata": {
        "id": "05XWyEFvoNEm"
      },
      "source": [
        "Берем случайную подвыборку"
      ]
    },
    {
      "cell_type": "code",
      "execution_count": 8,
      "metadata": {
        "id": "TUaWX8spoc9s"
      },
      "outputs": [],
      "source": [
        "tweets = tweets.sample(n=10000)"
      ]
    },
    {
      "cell_type": "markdown",
      "metadata": {
        "id": "voDX1TVUorCf"
      },
      "source": [
        "# GPT-2"
      ]
    },
    {
      "cell_type": "code",
      "execution_count": null,
      "metadata": {
        "id": "LJpEQbs2o9pq"
      },
      "outputs": [],
      "source": [
        "!pip install datasets accelerate transformers"
      ]
    },
    {
      "cell_type": "code",
      "execution_count": 10,
      "metadata": {
        "id": "jr3etYbmove3"
      },
      "outputs": [],
      "source": [
        "import torch, os, re as json\n",
        "from sklearn.model_selection import train_test_split\n",
        "from transformers import DataCollatorForLanguageModeling, DataCollatorWithPadding, GPT2Tokenizer, GPT2LMHeadModel, Trainer, TrainingArguments, AutoConfig\n",
        "from datasets import Dataset"
      ]
    },
    {
      "cell_type": "markdown",
      "metadata": {
        "id": "QU1nbnJQYRWm"
      },
      "source": [
        "Меняем среду выполнения с CPU на GPU"
      ]
    },
    {
      "cell_type": "code",
      "execution_count": 11,
      "metadata": {
        "colab": {
          "base_uri": "https://localhost:8080/"
        },
        "id": "nu3NLrIvpK9r",
        "outputId": "173e87f7-5db0-4de9-e0f6-de07fe246445"
      },
      "outputs": [
        {
          "output_type": "execute_result",
          "data": {
            "text/plain": [
              "device(type='cuda', index=0)"
            ]
          },
          "metadata": {},
          "execution_count": 11
        }
      ],
      "source": [
        "dev = 'cuda:0' if torch.cuda.is_available() else 'cpu' \n",
        "device = torch.device(dev)  \n",
        "device"
      ]
    },
    {
      "cell_type": "markdown",
      "metadata": {
        "id": "dLSB4E4NYU3j"
      },
      "source": [
        "Создаем экземпляр модели из зараннее обученной"
      ]
    },
    {
      "cell_type": "code",
      "execution_count": null,
      "metadata": {
        "id": "yc4IAUnQpRug"
      },
      "outputs": [],
      "source": [
        "base_model = GPT2LMHeadModel.from_pretrained('gpt2')\n",
        "\n",
        "base_model.num_parameters"
      ]
    },
    {
      "cell_type": "markdown",
      "metadata": {
        "id": "b9l-snvmYcdO"
      },
      "source": [
        "Создаем экземпляр токенайзера из зараннее обученного"
      ]
    },
    {
      "cell_type": "code",
      "execution_count": 13,
      "metadata": {
        "id": "GaaRJcNdpcIY"
      },
      "outputs": [],
      "source": [
        "base_tokenizer = GPT2Tokenizer.from_pretrained('gpt2')"
      ]
    },
    {
      "cell_type": "markdown",
      "metadata": {
        "id": "2qOT8RWwYnUB"
      },
      "source": [
        "## Базовый пайплайн генерации"
      ]
    },
    {
      "cell_type": "markdown",
      "metadata": {
        "id": "1k1ZHpEHYsXL"
      },
      "source": [
        "Выберем случайный текст -> превартим его в набор токенов -> заэнкодим токены через токенайзер"
      ]
    },
    {
      "cell_type": "code",
      "execution_count": 14,
      "metadata": {
        "colab": {
          "base_uri": "https://localhost:8080/"
        },
        "id": "jkW9SxXJpk6o",
        "outputId": "91601cdc-5214-487c-c11c-e0e1f03b30e8"
      },
      "outputs": [
        {
          "output_type": "execute_result",
          "data": {
            "text/plain": [
              "tensor([[29214,  1672,   302,  7329,  9343,   300, 11690,  1628,  2099, 41477,\n",
              "          8639,  5968,  6794]])"
            ]
          },
          "metadata": {},
          "execution_count": 14
        }
      ],
      "source": [
        "tweet = tweets.sample(n=1)['text'].to_list()[0]\n",
        "base_tokenizer.tokenize(tweet)\n",
        "text_ids = base_tokenizer.encode(tweet, return_tensors = 'pt')\n",
        "text_ids"
      ]
    },
    {
      "cell_type": "markdown",
      "metadata": {
        "id": "DvbXPBkLZNZj"
      },
      "source": [
        "Теперь сгенерируем новый текст -> задекодим его через токенайзер -> вывелем оригинал и сгенерированное"
      ]
    },
    {
      "cell_type": "code",
      "execution_count": 15,
      "metadata": {
        "id": "5emBoMWFpsrP",
        "colab": {
          "base_uri": "https://localhost:8080/"
        },
        "outputId": "2dc84a5a-c8cc-40ad-edfa-088001f8b59a"
      },
      "outputs": [
        {
          "output_type": "stream",
          "name": "stderr",
          "text": [
            "The attention mask and the pad token id were not set. As a consequence, you may observe unexpected behavior. Please pass your input's `attention_mask` to obtain reliable results.\n",
            "Setting `pad_token_id` to `eos_token_id`:50256 for open-end generation.\n"
          ]
        },
        {
          "output_type": "stream",
          "name": "stdout",
          "text": [
            "Original text: another example reagan enabled lincoln project type republican contributed hellscape\n",
            "Generated text:  another example reagan enabled lincoln project type republican contributed hellscape to the project.\n",
            "\n",
            "The\n"
          ]
        }
      ],
      "source": [
        "generated_text_samples = base_model.generate(\n",
        "    text_ids\n",
        ")\n",
        "\n",
        "print('Original text: %s' % tweet)\n",
        "\n",
        "generated_tweet = ''\n",
        "\n",
        "for i, beam in enumerate(generated_text_samples):\n",
        "    generated_tweet += ' ' + base_tokenizer.decode(beam, skip_special_tokens=True)\n",
        "\n",
        "print('Generated text: %s' % generated_tweet)"
      ]
    },
    {
      "cell_type": "markdown",
      "metadata": {
        "id": "_G6W_7jOZ_KK"
      },
      "source": [
        "Всего есть 4 вида \"метода\" генерации:\n",
        "1. Greedy. Берем следующее слово с макс. вероятностью;\n",
        "2. Beam. Считаем цепочку с макс. вероятностью;\n",
        "3. Sampling. Следующее слово выбирается случайным образом на основе распределения вероятностей, обусловленного предыдущими словами."
      ]
    },
    {
      "cell_type": "markdown",
      "metadata": {
        "id": "svIMk0w7HEyU"
      },
      "source": [
        "Создадим универсальную функцию для генерации текста"
      ]
    },
    {
      "cell_type": "code",
      "execution_count": 16,
      "metadata": {
        "id": "MpOpYNdFHIRx"
      },
      "outputs": [],
      "source": [
        "def generate_text(model, tokenizer, input_text, device):\n",
        "  text_ids = tokenizer.encode(input_text, return_tensors = 'pt')\n",
        "  text_ids = text_ids.to(device)\n",
        "  model = model.to(device)\n",
        "\n",
        "  generated_text_samples = model.generate(\n",
        "    text_ids, \n",
        "    no_repeat_ngram_size=2,\n",
        "    repetition_penalty= 1.5,\n",
        "    top_p=0.92,\n",
        "    temperature=.85,\n",
        "    do_sample=True,\n",
        "    top_k=125,\n",
        "    early_stopping=False\n",
        "  )\n",
        "  \n",
        "  gen_text = ''\n",
        "  for t in generated_text_samples:\n",
        "    gen_text = tokenizer.decode(t, skip_special_tokens=True)\n",
        "\n",
        "  return gen_text"
      ]
    },
    {
      "cell_type": "markdown",
      "metadata": {
        "id": "CUBH4wuDakFL"
      },
      "source": [
        "## Fine-tunning"
      ]
    },
    {
      "cell_type": "markdown",
      "metadata": {
        "id": "25_racMKIDtW"
      },
      "source": [
        "В первую очередь дополним токенайзер. Создадим специальным токены, которые будут отделять одну последоватеьность от другой. Далее создадим новые экземпляр модели и токенайзера."
      ]
    },
    {
      "cell_type": "code",
      "execution_count": 17,
      "metadata": {
        "id": "e7tP2LHRZdD3",
        "colab": {
          "base_uri": "https://localhost:8080/"
        },
        "outputId": "8ce9f7e4-cd0a-4055-d96c-d069675e09bb"
      },
      "outputs": [
        {
          "output_type": "execute_result",
          "data": {
            "text/plain": [
              "Embedding(50259, 768)"
            ]
          },
          "metadata": {},
          "execution_count": 17
        }
      ],
      "source": [
        "bos = '<|endoftext|>'\n",
        "eos = '<|EOS|>'\n",
        "pad = '<|pad|>'\n",
        "\n",
        "special_tokens_dict = {'eos_token': eos, 'bos_token': bos, 'pad_token': pad}\n",
        "\n",
        "base_tokenizer.add_special_tokens(special_tokens_dict)\n",
        "\n",
        "config = AutoConfig.from_pretrained('gpt2', \n",
        "                                    bos_token_id=base_tokenizer.bos_token_id,\n",
        "                                    eos_token_id=base_tokenizer.eos_token_id,\n",
        "                                    pad_token_id=base_tokenizer.pad_token_id,\n",
        "                                    output_hidden_states=False)\n",
        "\n",
        "base_model = GPT2LMHeadModel.from_pretrained('gpt2', config=config)\n",
        "\n",
        "base_model.resize_token_embeddings(len(base_tokenizer))"
      ]
    },
    {
      "cell_type": "markdown",
      "metadata": {
        "id": "1OKXvOvfIbGe"
      },
      "source": [
        "Дополним сам текст этими самыми специальными токенам и разделим его на обучающую и тестовую выборку."
      ]
    },
    {
      "cell_type": "code",
      "execution_count": 18,
      "metadata": {
        "id": "U_kl9rqDoq3a"
      },
      "outputs": [],
      "source": [
        "tweets['text'] = bos + ' ' + tweets['text'] + ' ' + eos\n",
        "\n",
        "tweets_train, tweets_test = train_test_split(tweets, train_size=0.8)"
      ]
    },
    {
      "cell_type": "markdown",
      "metadata": {
        "id": "hq0_y8BIIql1"
      },
      "source": [
        "Перейдем от `pd.DataFrame` к `Dataset`"
      ]
    },
    {
      "cell_type": "code",
      "execution_count": 19,
      "metadata": {
        "id": "8KCkeCDSo36j"
      },
      "outputs": [],
      "source": [
        "train_dataset = Dataset.from_pandas(tweets_train[['text']])\n",
        "test_dataset = Dataset.from_pandas(tweets_test[['text']])"
      ]
    },
    {
      "cell_type": "markdown",
      "metadata": {
        "id": "CZluP2zvIyVq"
      },
      "source": [
        "Сделаем токенизацию"
      ]
    },
    {
      "cell_type": "code",
      "execution_count": 20,
      "metadata": {
        "id": "MIlQ70vEpOdw",
        "colab": {
          "base_uri": "https://localhost:8080/",
          "height": 16,
          "referenced_widgets": [
            "d7b77dd2d3e143ccb58e3e8fde3a1a46",
            "00cfe1fb81cc4c30ac0123f9a5018451",
            "79578dba97a94f459c016cf0a6fb979d",
            "f8702cd71b02487ba2cd01b122b7224a",
            "e33114321b5e460798628515525fe066",
            "bc8da12dc5d74636a3ebe33b8cc86d13",
            "6aad3e482342412a921d886882a94f7b",
            "6e69259c151c476397f1ee91c57febc4",
            "685e03a0d2494b64814e318b135139ff",
            "74433add81be4300a44ac50646886969",
            "5c3196e84e0045318aae0d1baa000d04",
            "da9b2f6bdaa04de8a966f31195e7daf5",
            "f2fa8c175b17438a86ad46a1fce4235b",
            "e7d6ce503fb2471f92ef7fd96d8d3388",
            "0bc73d396e874353830eb7ab0cd303a0",
            "250635f6ff0e426e9c6e98579083980d",
            "d0f58f44d86d48e890b6d360e5572b77",
            "daa1c567399d4ad5aa45f6bf15d67477",
            "992a517461364905842b23b6e5838d98",
            "6fda3d668709448ba182a0f22a3306ba",
            "627040a44fc244e69a5b32825f543ef4",
            "799db323d932444383111acdb790be85"
          ]
        },
        "outputId": "4e968f9d-31aa-4f07-d634-a1ab6e6ccb02"
      },
      "outputs": [
        {
          "output_type": "display_data",
          "data": {
            "text/plain": [
              "Map (num_proc=5):   0%|          | 0/8000 [00:00<?, ? examples/s]"
            ],
            "application/vnd.jupyter.widget-view+json": {
              "version_major": 2,
              "version_minor": 0,
              "model_id": "d7b77dd2d3e143ccb58e3e8fde3a1a46"
            }
          },
          "metadata": {}
        },
        {
          "output_type": "display_data",
          "data": {
            "text/plain": [
              "Map (num_proc=5):   0%|          | 0/2000 [00:00<?, ? examples/s]"
            ],
            "application/vnd.jupyter.widget-view+json": {
              "version_major": 2,
              "version_minor": 0,
              "model_id": "da9b2f6bdaa04de8a966f31195e7daf5"
            }
          },
          "metadata": {}
        }
      ],
      "source": [
        "def tokenize_function(df):\n",
        "  return base_tokenizer(df['text'], padding=True)\n",
        "\n",
        "tokenized_train_dataset = train_dataset.map(\n",
        "    tokenize_function,\n",
        "    batched=True,\n",
        "    num_proc=5,\n",
        "    remove_columns=['text'],\n",
        ")\n",
        "tokenized_val_dataset = test_dataset.map(\n",
        "    tokenize_function,\n",
        "    batched=True,\n",
        "    num_proc=5,\n",
        "    remove_columns=['text'],\n",
        ")"
      ]
    },
    {
      "cell_type": "markdown",
      "metadata": {
        "id": "irrSSmf1JKDW"
      },
      "source": [
        "Определим параметры модели, данных и обучения. Запустим обучение"
      ]
    },
    {
      "cell_type": "code",
      "execution_count": 21,
      "metadata": {
        "id": "V8R_hkwHpizh",
        "colab": {
          "base_uri": "https://localhost:8080/",
          "height": 182
        },
        "outputId": "2c3ffec8-f1dd-45db-eb7d-3f2625b52c2c"
      },
      "outputs": [
        {
          "output_type": "display_data",
          "data": {
            "text/plain": [
              "<IPython.core.display.HTML object>"
            ],
            "text/html": [
              "\n",
              "    <div>\n",
              "      \n",
              "      <progress value='1500' max='1500' style='width:300px; height:20px; vertical-align: middle;'></progress>\n",
              "      [1500/1500 07:42, Epoch 6/6]\n",
              "    </div>\n",
              "    <table border=\"1\" class=\"dataframe\">\n",
              "  <thead>\n",
              " <tr style=\"text-align: left;\">\n",
              "      <th>Step</th>\n",
              "      <th>Training Loss</th>\n",
              "    </tr>\n",
              "  </thead>\n",
              "  <tbody>\n",
              "    <tr>\n",
              "      <td>500</td>\n",
              "      <td>10.820700</td>\n",
              "    </tr>\n",
              "    <tr>\n",
              "      <td>1000</td>\n",
              "      <td>5.811100</td>\n",
              "    </tr>\n",
              "    <tr>\n",
              "      <td>1500</td>\n",
              "      <td>5.489100</td>\n",
              "    </tr>\n",
              "  </tbody>\n",
              "</table><p>"
            ]
          },
          "metadata": {}
        },
        {
          "output_type": "execute_result",
          "data": {
            "text/plain": [
              "TrainOutput(global_step=1500, training_loss=7.373604654947917, metrics={'train_runtime': 464.0542, 'train_samples_per_second': 103.436, 'train_steps_per_second': 3.232, 'total_flos': 828622356480000.0, 'train_loss': 7.373604654947917, 'epoch': 6.0})"
            ]
          },
          "metadata": {},
          "execution_count": 21
        }
      ],
      "source": [
        "model_path = './model_tweets'\n",
        "\n",
        "training_args = TrainingArguments(\n",
        "  output_dir=model_path,\n",
        "  num_train_epochs=6,    \n",
        "  per_device_train_batch_size=32,\n",
        "  per_device_eval_batch_size=16,\n",
        "  warmup_steps=200,    \n",
        "  weight_decay=0.01,\n",
        "  logging_dir=model_path, \n",
        "  prediction_loss_only=True,\n",
        "  save_steps=10000 \n",
        ")\n",
        "\n",
        "data_collator = DataCollatorForLanguageModeling(\n",
        "  tokenizer=base_tokenizer,\n",
        "  mlm=False\n",
        ")\n",
        "\n",
        "trainer = Trainer(\n",
        "  model=base_model,                      \n",
        "  args=training_args,      \n",
        "  data_collator=data_collator,\n",
        "  train_dataset=tokenized_train_dataset,  \n",
        "  eval_dataset=tokenized_val_dataset\n",
        ")\n",
        "\n",
        "trainer.train()"
      ]
    },
    {
      "cell_type": "markdown",
      "metadata": {
        "id": "FOOqO-9GJY9f"
      },
      "source": [
        "Сохраним модель"
      ]
    },
    {
      "cell_type": "code",
      "source": [
        "trainer.save_model()\n",
        "base_tokenizer.save_pretrained(model_path)"
      ],
      "metadata": {
        "colab": {
          "base_uri": "https://localhost:8080/"
        },
        "id": "d3MAwCKaMnB_",
        "outputId": "6c4e84ec-2010-451b-901a-60f45f5f628b"
      },
      "execution_count": 22,
      "outputs": [
        {
          "output_type": "execute_result",
          "data": {
            "text/plain": [
              "('./model_tweets/tokenizer_config.json',\n",
              " './model_tweets/special_tokens_map.json',\n",
              " './model_tweets/vocab.json',\n",
              " './model_tweets/merges.txt',\n",
              " './model_tweets/added_tokens.json')"
            ]
          },
          "metadata": {},
          "execution_count": 22
        }
      ]
    },
    {
      "cell_type": "markdown",
      "source": [
        "Оцени модель"
      ],
      "metadata": {
        "id": "GQ_rFkXGM6B3"
      }
    },
    {
      "cell_type": "code",
      "source": [
        "trainer.evaluate()"
      ],
      "metadata": {
        "colab": {
          "base_uri": "https://localhost:8080/",
          "height": 118
        },
        "id": "fXXhvX-IMpvL",
        "outputId": "3e1611d9-621c-4cd6-adc6-f5b2dc7ca8d2"
      },
      "execution_count": 23,
      "outputs": [
        {
          "output_type": "display_data",
          "data": {
            "text/plain": [
              "<IPython.core.display.HTML object>"
            ],
            "text/html": [
              "\n",
              "    <div>\n",
              "      \n",
              "      <progress value='125' max='125' style='width:300px; height:20px; vertical-align: middle;'></progress>\n",
              "      [125/125 00:04]\n",
              "    </div>\n",
              "    "
            ]
          },
          "metadata": {}
        },
        {
          "output_type": "execute_result",
          "data": {
            "text/plain": [
              "{'eval_loss': 6.1307244300842285,\n",
              " 'eval_runtime': 4.8495,\n",
              " 'eval_samples_per_second': 412.411,\n",
              " 'eval_steps_per_second': 25.776,\n",
              " 'epoch': 6.0}"
            ]
          },
          "metadata": {},
          "execution_count": 23
        }
      ]
    },
    {
      "cell_type": "markdown",
      "source": [
        "Загрузим модель"
      ],
      "metadata": {
        "id": "LPX1Ti-PNcoM"
      }
    },
    {
      "cell_type": "code",
      "source": [
        "tweets_model = GPT2LMHeadModel.from_pretrained(model_path)\n",
        "tweets_tokenizer = GPT2Tokenizer.from_pretrained(model_path)"
      ],
      "metadata": {
        "id": "B0yjC1K-NcT4"
      },
      "execution_count": 24,
      "outputs": []
    },
    {
      "cell_type": "markdown",
      "source": [
        "Сгенерируем новый твит. Причём стоит обратить внимание на параметры генерации. Если оставить просто `Greedy`, то каждый раз мы будем получать один и тот же твит"
      ],
      "metadata": {
        "id": "yVVjVspOM2m4"
      }
    },
    {
      "cell_type": "code",
      "source": [
        "input_text = 'covid'\n",
        "\n",
        "generated_tweet = generate_text(tweets_model, tweets_tokenizer, input_text, device)\n",
        "\n",
        "generated_tweet"
      ],
      "metadata": {
        "colab": {
          "base_uri": "https://localhost:8080/",
          "height": 34
        },
        "id": "GGD1vvLgMrJh",
        "outputId": "73a20b9d-77bf-4d5b-9306-b8681f678700"
      },
      "execution_count": 29,
      "outputs": [
        {
          "output_type": "execute_result",
          "data": {
            "text/plain": [
              "'covid case reported highest singleday spike new death reported h'"
            ],
            "application/vnd.google.colaboratory.intrinsic+json": {
              "type": "string"
            }
          },
          "metadata": {},
          "execution_count": 29
        }
      ]
    }
  ],
  "metadata": {
    "accelerator": "GPU",
    "colab": {
      "provenance": [],
      "gpuType": "T4",
      "authorship_tag": "ABX9TyN9ZGyWVKcbm3tfUuB9atRk"
    },
    "gpuClass": "standard",
    "kernelspec": {
      "display_name": "Python 3",
      "name": "python3"
    },
    "language_info": {
      "name": "python"
    },
    "widgets": {
      "application/vnd.jupyter.widget-state+json": {
        "d7b77dd2d3e143ccb58e3e8fde3a1a46": {
          "model_module": "@jupyter-widgets/controls",
          "model_name": "HBoxModel",
          "model_module_version": "1.5.0",
          "state": {
            "_dom_classes": [],
            "_model_module": "@jupyter-widgets/controls",
            "_model_module_version": "1.5.0",
            "_model_name": "HBoxModel",
            "_view_count": null,
            "_view_module": "@jupyter-widgets/controls",
            "_view_module_version": "1.5.0",
            "_view_name": "HBoxView",
            "box_style": "",
            "children": [
              "IPY_MODEL_00cfe1fb81cc4c30ac0123f9a5018451",
              "IPY_MODEL_79578dba97a94f459c016cf0a6fb979d",
              "IPY_MODEL_f8702cd71b02487ba2cd01b122b7224a"
            ],
            "layout": "IPY_MODEL_e33114321b5e460798628515525fe066"
          }
        },
        "00cfe1fb81cc4c30ac0123f9a5018451": {
          "model_module": "@jupyter-widgets/controls",
          "model_name": "HTMLModel",
          "model_module_version": "1.5.0",
          "state": {
            "_dom_classes": [],
            "_model_module": "@jupyter-widgets/controls",
            "_model_module_version": "1.5.0",
            "_model_name": "HTMLModel",
            "_view_count": null,
            "_view_module": "@jupyter-widgets/controls",
            "_view_module_version": "1.5.0",
            "_view_name": "HTMLView",
            "description": "",
            "description_tooltip": null,
            "layout": "IPY_MODEL_bc8da12dc5d74636a3ebe33b8cc86d13",
            "placeholder": "​",
            "style": "IPY_MODEL_6aad3e482342412a921d886882a94f7b",
            "value": "Map (num_proc=5): 100%"
          }
        },
        "79578dba97a94f459c016cf0a6fb979d": {
          "model_module": "@jupyter-widgets/controls",
          "model_name": "FloatProgressModel",
          "model_module_version": "1.5.0",
          "state": {
            "_dom_classes": [],
            "_model_module": "@jupyter-widgets/controls",
            "_model_module_version": "1.5.0",
            "_model_name": "FloatProgressModel",
            "_view_count": null,
            "_view_module": "@jupyter-widgets/controls",
            "_view_module_version": "1.5.0",
            "_view_name": "ProgressView",
            "bar_style": "",
            "description": "",
            "description_tooltip": null,
            "layout": "IPY_MODEL_6e69259c151c476397f1ee91c57febc4",
            "max": 8000,
            "min": 0,
            "orientation": "horizontal",
            "style": "IPY_MODEL_685e03a0d2494b64814e318b135139ff",
            "value": 8000
          }
        },
        "f8702cd71b02487ba2cd01b122b7224a": {
          "model_module": "@jupyter-widgets/controls",
          "model_name": "HTMLModel",
          "model_module_version": "1.5.0",
          "state": {
            "_dom_classes": [],
            "_model_module": "@jupyter-widgets/controls",
            "_model_module_version": "1.5.0",
            "_model_name": "HTMLModel",
            "_view_count": null,
            "_view_module": "@jupyter-widgets/controls",
            "_view_module_version": "1.5.0",
            "_view_name": "HTMLView",
            "description": "",
            "description_tooltip": null,
            "layout": "IPY_MODEL_74433add81be4300a44ac50646886969",
            "placeholder": "​",
            "style": "IPY_MODEL_5c3196e84e0045318aae0d1baa000d04",
            "value": " 8000/8000 [00:04&lt;00:00, 2505.87 examples/s]"
          }
        },
        "e33114321b5e460798628515525fe066": {
          "model_module": "@jupyter-widgets/base",
          "model_name": "LayoutModel",
          "model_module_version": "1.2.0",
          "state": {
            "_model_module": "@jupyter-widgets/base",
            "_model_module_version": "1.2.0",
            "_model_name": "LayoutModel",
            "_view_count": null,
            "_view_module": "@jupyter-widgets/base",
            "_view_module_version": "1.2.0",
            "_view_name": "LayoutView",
            "align_content": null,
            "align_items": null,
            "align_self": null,
            "border": null,
            "bottom": null,
            "display": null,
            "flex": null,
            "flex_flow": null,
            "grid_area": null,
            "grid_auto_columns": null,
            "grid_auto_flow": null,
            "grid_auto_rows": null,
            "grid_column": null,
            "grid_gap": null,
            "grid_row": null,
            "grid_template_areas": null,
            "grid_template_columns": null,
            "grid_template_rows": null,
            "height": null,
            "justify_content": null,
            "justify_items": null,
            "left": null,
            "margin": null,
            "max_height": null,
            "max_width": null,
            "min_height": null,
            "min_width": null,
            "object_fit": null,
            "object_position": null,
            "order": null,
            "overflow": null,
            "overflow_x": null,
            "overflow_y": null,
            "padding": null,
            "right": null,
            "top": null,
            "visibility": "hidden",
            "width": null
          }
        },
        "bc8da12dc5d74636a3ebe33b8cc86d13": {
          "model_module": "@jupyter-widgets/base",
          "model_name": "LayoutModel",
          "model_module_version": "1.2.0",
          "state": {
            "_model_module": "@jupyter-widgets/base",
            "_model_module_version": "1.2.0",
            "_model_name": "LayoutModel",
            "_view_count": null,
            "_view_module": "@jupyter-widgets/base",
            "_view_module_version": "1.2.0",
            "_view_name": "LayoutView",
            "align_content": null,
            "align_items": null,
            "align_self": null,
            "border": null,
            "bottom": null,
            "display": null,
            "flex": null,
            "flex_flow": null,
            "grid_area": null,
            "grid_auto_columns": null,
            "grid_auto_flow": null,
            "grid_auto_rows": null,
            "grid_column": null,
            "grid_gap": null,
            "grid_row": null,
            "grid_template_areas": null,
            "grid_template_columns": null,
            "grid_template_rows": null,
            "height": null,
            "justify_content": null,
            "justify_items": null,
            "left": null,
            "margin": null,
            "max_height": null,
            "max_width": null,
            "min_height": null,
            "min_width": null,
            "object_fit": null,
            "object_position": null,
            "order": null,
            "overflow": null,
            "overflow_x": null,
            "overflow_y": null,
            "padding": null,
            "right": null,
            "top": null,
            "visibility": null,
            "width": null
          }
        },
        "6aad3e482342412a921d886882a94f7b": {
          "model_module": "@jupyter-widgets/controls",
          "model_name": "DescriptionStyleModel",
          "model_module_version": "1.5.0",
          "state": {
            "_model_module": "@jupyter-widgets/controls",
            "_model_module_version": "1.5.0",
            "_model_name": "DescriptionStyleModel",
            "_view_count": null,
            "_view_module": "@jupyter-widgets/base",
            "_view_module_version": "1.2.0",
            "_view_name": "StyleView",
            "description_width": ""
          }
        },
        "6e69259c151c476397f1ee91c57febc4": {
          "model_module": "@jupyter-widgets/base",
          "model_name": "LayoutModel",
          "model_module_version": "1.2.0",
          "state": {
            "_model_module": "@jupyter-widgets/base",
            "_model_module_version": "1.2.0",
            "_model_name": "LayoutModel",
            "_view_count": null,
            "_view_module": "@jupyter-widgets/base",
            "_view_module_version": "1.2.0",
            "_view_name": "LayoutView",
            "align_content": null,
            "align_items": null,
            "align_self": null,
            "border": null,
            "bottom": null,
            "display": null,
            "flex": null,
            "flex_flow": null,
            "grid_area": null,
            "grid_auto_columns": null,
            "grid_auto_flow": null,
            "grid_auto_rows": null,
            "grid_column": null,
            "grid_gap": null,
            "grid_row": null,
            "grid_template_areas": null,
            "grid_template_columns": null,
            "grid_template_rows": null,
            "height": null,
            "justify_content": null,
            "justify_items": null,
            "left": null,
            "margin": null,
            "max_height": null,
            "max_width": null,
            "min_height": null,
            "min_width": null,
            "object_fit": null,
            "object_position": null,
            "order": null,
            "overflow": null,
            "overflow_x": null,
            "overflow_y": null,
            "padding": null,
            "right": null,
            "top": null,
            "visibility": null,
            "width": null
          }
        },
        "685e03a0d2494b64814e318b135139ff": {
          "model_module": "@jupyter-widgets/controls",
          "model_name": "ProgressStyleModel",
          "model_module_version": "1.5.0",
          "state": {
            "_model_module": "@jupyter-widgets/controls",
            "_model_module_version": "1.5.0",
            "_model_name": "ProgressStyleModel",
            "_view_count": null,
            "_view_module": "@jupyter-widgets/base",
            "_view_module_version": "1.2.0",
            "_view_name": "StyleView",
            "bar_color": null,
            "description_width": ""
          }
        },
        "74433add81be4300a44ac50646886969": {
          "model_module": "@jupyter-widgets/base",
          "model_name": "LayoutModel",
          "model_module_version": "1.2.0",
          "state": {
            "_model_module": "@jupyter-widgets/base",
            "_model_module_version": "1.2.0",
            "_model_name": "LayoutModel",
            "_view_count": null,
            "_view_module": "@jupyter-widgets/base",
            "_view_module_version": "1.2.0",
            "_view_name": "LayoutView",
            "align_content": null,
            "align_items": null,
            "align_self": null,
            "border": null,
            "bottom": null,
            "display": null,
            "flex": null,
            "flex_flow": null,
            "grid_area": null,
            "grid_auto_columns": null,
            "grid_auto_flow": null,
            "grid_auto_rows": null,
            "grid_column": null,
            "grid_gap": null,
            "grid_row": null,
            "grid_template_areas": null,
            "grid_template_columns": null,
            "grid_template_rows": null,
            "height": null,
            "justify_content": null,
            "justify_items": null,
            "left": null,
            "margin": null,
            "max_height": null,
            "max_width": null,
            "min_height": null,
            "min_width": null,
            "object_fit": null,
            "object_position": null,
            "order": null,
            "overflow": null,
            "overflow_x": null,
            "overflow_y": null,
            "padding": null,
            "right": null,
            "top": null,
            "visibility": null,
            "width": null
          }
        },
        "5c3196e84e0045318aae0d1baa000d04": {
          "model_module": "@jupyter-widgets/controls",
          "model_name": "DescriptionStyleModel",
          "model_module_version": "1.5.0",
          "state": {
            "_model_module": "@jupyter-widgets/controls",
            "_model_module_version": "1.5.0",
            "_model_name": "DescriptionStyleModel",
            "_view_count": null,
            "_view_module": "@jupyter-widgets/base",
            "_view_module_version": "1.2.0",
            "_view_name": "StyleView",
            "description_width": ""
          }
        },
        "da9b2f6bdaa04de8a966f31195e7daf5": {
          "model_module": "@jupyter-widgets/controls",
          "model_name": "HBoxModel",
          "model_module_version": "1.5.0",
          "state": {
            "_dom_classes": [],
            "_model_module": "@jupyter-widgets/controls",
            "_model_module_version": "1.5.0",
            "_model_name": "HBoxModel",
            "_view_count": null,
            "_view_module": "@jupyter-widgets/controls",
            "_view_module_version": "1.5.0",
            "_view_name": "HBoxView",
            "box_style": "",
            "children": [
              "IPY_MODEL_f2fa8c175b17438a86ad46a1fce4235b",
              "IPY_MODEL_e7d6ce503fb2471f92ef7fd96d8d3388",
              "IPY_MODEL_0bc73d396e874353830eb7ab0cd303a0"
            ],
            "layout": "IPY_MODEL_250635f6ff0e426e9c6e98579083980d"
          }
        },
        "f2fa8c175b17438a86ad46a1fce4235b": {
          "model_module": "@jupyter-widgets/controls",
          "model_name": "HTMLModel",
          "model_module_version": "1.5.0",
          "state": {
            "_dom_classes": [],
            "_model_module": "@jupyter-widgets/controls",
            "_model_module_version": "1.5.0",
            "_model_name": "HTMLModel",
            "_view_count": null,
            "_view_module": "@jupyter-widgets/controls",
            "_view_module_version": "1.5.0",
            "_view_name": "HTMLView",
            "description": "",
            "description_tooltip": null,
            "layout": "IPY_MODEL_d0f58f44d86d48e890b6d360e5572b77",
            "placeholder": "​",
            "style": "IPY_MODEL_daa1c567399d4ad5aa45f6bf15d67477",
            "value": "Map (num_proc=5):  80%"
          }
        },
        "e7d6ce503fb2471f92ef7fd96d8d3388": {
          "model_module": "@jupyter-widgets/controls",
          "model_name": "FloatProgressModel",
          "model_module_version": "1.5.0",
          "state": {
            "_dom_classes": [],
            "_model_module": "@jupyter-widgets/controls",
            "_model_module_version": "1.5.0",
            "_model_name": "FloatProgressModel",
            "_view_count": null,
            "_view_module": "@jupyter-widgets/controls",
            "_view_module_version": "1.5.0",
            "_view_name": "ProgressView",
            "bar_style": "",
            "description": "",
            "description_tooltip": null,
            "layout": "IPY_MODEL_992a517461364905842b23b6e5838d98",
            "max": 2000,
            "min": 0,
            "orientation": "horizontal",
            "style": "IPY_MODEL_6fda3d668709448ba182a0f22a3306ba",
            "value": 2000
          }
        },
        "0bc73d396e874353830eb7ab0cd303a0": {
          "model_module": "@jupyter-widgets/controls",
          "model_name": "HTMLModel",
          "model_module_version": "1.5.0",
          "state": {
            "_dom_classes": [],
            "_model_module": "@jupyter-widgets/controls",
            "_model_module_version": "1.5.0",
            "_model_name": "HTMLModel",
            "_view_count": null,
            "_view_module": "@jupyter-widgets/controls",
            "_view_module_version": "1.5.0",
            "_view_name": "HTMLView",
            "description": "",
            "description_tooltip": null,
            "layout": "IPY_MODEL_627040a44fc244e69a5b32825f543ef4",
            "placeholder": "​",
            "style": "IPY_MODEL_799db323d932444383111acdb790be85",
            "value": " 1600/2000 [00:01&lt;00:00, 1439.24 examples/s]"
          }
        },
        "250635f6ff0e426e9c6e98579083980d": {
          "model_module": "@jupyter-widgets/base",
          "model_name": "LayoutModel",
          "model_module_version": "1.2.0",
          "state": {
            "_model_module": "@jupyter-widgets/base",
            "_model_module_version": "1.2.0",
            "_model_name": "LayoutModel",
            "_view_count": null,
            "_view_module": "@jupyter-widgets/base",
            "_view_module_version": "1.2.0",
            "_view_name": "LayoutView",
            "align_content": null,
            "align_items": null,
            "align_self": null,
            "border": null,
            "bottom": null,
            "display": null,
            "flex": null,
            "flex_flow": null,
            "grid_area": null,
            "grid_auto_columns": null,
            "grid_auto_flow": null,
            "grid_auto_rows": null,
            "grid_column": null,
            "grid_gap": null,
            "grid_row": null,
            "grid_template_areas": null,
            "grid_template_columns": null,
            "grid_template_rows": null,
            "height": null,
            "justify_content": null,
            "justify_items": null,
            "left": null,
            "margin": null,
            "max_height": null,
            "max_width": null,
            "min_height": null,
            "min_width": null,
            "object_fit": null,
            "object_position": null,
            "order": null,
            "overflow": null,
            "overflow_x": null,
            "overflow_y": null,
            "padding": null,
            "right": null,
            "top": null,
            "visibility": "hidden",
            "width": null
          }
        },
        "d0f58f44d86d48e890b6d360e5572b77": {
          "model_module": "@jupyter-widgets/base",
          "model_name": "LayoutModel",
          "model_module_version": "1.2.0",
          "state": {
            "_model_module": "@jupyter-widgets/base",
            "_model_module_version": "1.2.0",
            "_model_name": "LayoutModel",
            "_view_count": null,
            "_view_module": "@jupyter-widgets/base",
            "_view_module_version": "1.2.0",
            "_view_name": "LayoutView",
            "align_content": null,
            "align_items": null,
            "align_self": null,
            "border": null,
            "bottom": null,
            "display": null,
            "flex": null,
            "flex_flow": null,
            "grid_area": null,
            "grid_auto_columns": null,
            "grid_auto_flow": null,
            "grid_auto_rows": null,
            "grid_column": null,
            "grid_gap": null,
            "grid_row": null,
            "grid_template_areas": null,
            "grid_template_columns": null,
            "grid_template_rows": null,
            "height": null,
            "justify_content": null,
            "justify_items": null,
            "left": null,
            "margin": null,
            "max_height": null,
            "max_width": null,
            "min_height": null,
            "min_width": null,
            "object_fit": null,
            "object_position": null,
            "order": null,
            "overflow": null,
            "overflow_x": null,
            "overflow_y": null,
            "padding": null,
            "right": null,
            "top": null,
            "visibility": null,
            "width": null
          }
        },
        "daa1c567399d4ad5aa45f6bf15d67477": {
          "model_module": "@jupyter-widgets/controls",
          "model_name": "DescriptionStyleModel",
          "model_module_version": "1.5.0",
          "state": {
            "_model_module": "@jupyter-widgets/controls",
            "_model_module_version": "1.5.0",
            "_model_name": "DescriptionStyleModel",
            "_view_count": null,
            "_view_module": "@jupyter-widgets/base",
            "_view_module_version": "1.2.0",
            "_view_name": "StyleView",
            "description_width": ""
          }
        },
        "992a517461364905842b23b6e5838d98": {
          "model_module": "@jupyter-widgets/base",
          "model_name": "LayoutModel",
          "model_module_version": "1.2.0",
          "state": {
            "_model_module": "@jupyter-widgets/base",
            "_model_module_version": "1.2.0",
            "_model_name": "LayoutModel",
            "_view_count": null,
            "_view_module": "@jupyter-widgets/base",
            "_view_module_version": "1.2.0",
            "_view_name": "LayoutView",
            "align_content": null,
            "align_items": null,
            "align_self": null,
            "border": null,
            "bottom": null,
            "display": null,
            "flex": null,
            "flex_flow": null,
            "grid_area": null,
            "grid_auto_columns": null,
            "grid_auto_flow": null,
            "grid_auto_rows": null,
            "grid_column": null,
            "grid_gap": null,
            "grid_row": null,
            "grid_template_areas": null,
            "grid_template_columns": null,
            "grid_template_rows": null,
            "height": null,
            "justify_content": null,
            "justify_items": null,
            "left": null,
            "margin": null,
            "max_height": null,
            "max_width": null,
            "min_height": null,
            "min_width": null,
            "object_fit": null,
            "object_position": null,
            "order": null,
            "overflow": null,
            "overflow_x": null,
            "overflow_y": null,
            "padding": null,
            "right": null,
            "top": null,
            "visibility": null,
            "width": null
          }
        },
        "6fda3d668709448ba182a0f22a3306ba": {
          "model_module": "@jupyter-widgets/controls",
          "model_name": "ProgressStyleModel",
          "model_module_version": "1.5.0",
          "state": {
            "_model_module": "@jupyter-widgets/controls",
            "_model_module_version": "1.5.0",
            "_model_name": "ProgressStyleModel",
            "_view_count": null,
            "_view_module": "@jupyter-widgets/base",
            "_view_module_version": "1.2.0",
            "_view_name": "StyleView",
            "bar_color": null,
            "description_width": ""
          }
        },
        "627040a44fc244e69a5b32825f543ef4": {
          "model_module": "@jupyter-widgets/base",
          "model_name": "LayoutModel",
          "model_module_version": "1.2.0",
          "state": {
            "_model_module": "@jupyter-widgets/base",
            "_model_module_version": "1.2.0",
            "_model_name": "LayoutModel",
            "_view_count": null,
            "_view_module": "@jupyter-widgets/base",
            "_view_module_version": "1.2.0",
            "_view_name": "LayoutView",
            "align_content": null,
            "align_items": null,
            "align_self": null,
            "border": null,
            "bottom": null,
            "display": null,
            "flex": null,
            "flex_flow": null,
            "grid_area": null,
            "grid_auto_columns": null,
            "grid_auto_flow": null,
            "grid_auto_rows": null,
            "grid_column": null,
            "grid_gap": null,
            "grid_row": null,
            "grid_template_areas": null,
            "grid_template_columns": null,
            "grid_template_rows": null,
            "height": null,
            "justify_content": null,
            "justify_items": null,
            "left": null,
            "margin": null,
            "max_height": null,
            "max_width": null,
            "min_height": null,
            "min_width": null,
            "object_fit": null,
            "object_position": null,
            "order": null,
            "overflow": null,
            "overflow_x": null,
            "overflow_y": null,
            "padding": null,
            "right": null,
            "top": null,
            "visibility": null,
            "width": null
          }
        },
        "799db323d932444383111acdb790be85": {
          "model_module": "@jupyter-widgets/controls",
          "model_name": "DescriptionStyleModel",
          "model_module_version": "1.5.0",
          "state": {
            "_model_module": "@jupyter-widgets/controls",
            "_model_module_version": "1.5.0",
            "_model_name": "DescriptionStyleModel",
            "_view_count": null,
            "_view_module": "@jupyter-widgets/base",
            "_view_module_version": "1.2.0",
            "_view_name": "StyleView",
            "description_width": ""
          }
        }
      }
    }
  },
  "nbformat": 4,
  "nbformat_minor": 0
}