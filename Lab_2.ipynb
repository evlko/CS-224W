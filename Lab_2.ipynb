{
  "nbformat": 4,
  "nbformat_minor": 0,
  "metadata": {
    "colab": {
      "provenance": [],
      "authorship_tag": "ABX9TyMaPQ7NyWZLNdWVpHIK+UBF",
      "include_colab_link": true
    },
    "kernelspec": {
      "name": "python3",
      "display_name": "Python 3"
    },
    "language_info": {
      "name": "python"
    }
  },
  "cells": [
    {
      "cell_type": "markdown",
      "metadata": {
        "id": "view-in-github",
        "colab_type": "text"
      },
      "source": [
        "<a href=\"https://colab.research.google.com/github/evlko/CS-224W/blob/main/Lab_2.ipynb\" target=\"_parent\"><img src=\"https://colab.research.google.com/assets/colab-badge.svg\" alt=\"Open In Colab\"/></a>"
      ]
    },
    {
      "cell_type": "code",
      "source": [
        "from collections import defaultdict\n",
        "import pandas as pd\n",
        "\n",
        "# Network Analysis\n",
        "import networkx as nx\n",
        "import community.community_louvain as community_louvain\n",
        "import networkx.algorithms.community as nx_comm"
      ],
      "metadata": {
        "id": "PEAoMdlHVgvD"
      },
      "execution_count": 1,
      "outputs": []
    },
    {
      "cell_type": "code",
      "source": [
        "df = pd.read_csv('friends_connections.csv')\n",
        "df = df[['user_id', 'friends']]"
      ],
      "metadata": {
        "id": "JgDQTFxxVjy0"
      },
      "execution_count": 2,
      "outputs": []
    },
    {
      "cell_type": "markdown",
      "source": [
        "Полученные данные представлены в виде:\n",
        "\n",
        "user_id | friends\n",
        "--- | ---\n",
        "id пользователя | id его друга\n",
        "\n",
        "Для удобства представим данные в виде матрицы смежности (*adjacency matrix*).\n",
        "\n",
        "Соц. граф — неориентированный, поэтому добавим к полученной матрице её же, но транспонированную, а далее поделим саму на себя. Таким образом, восстанавливаем пропущенные ребра, которых могло не хватать из-за настроек приватности пользователей."
      ],
      "metadata": {
        "id": "tVLtv5sISAzJ"
      }
    },
    {
      "cell_type": "code",
      "source": [
        "adj_max = pd.crosstab(df['user_id'], df['friends'])\n",
        "idx = adj_max.columns.union(adj_max.index)\n",
        "adj_max = adj_max.reindex(index = idx, columns=idx, fill_value=0)\n",
        "\n",
        "adj_max = ((adj_max + adj_max.T) / (adj_max + adj_max.T)).fillna(0)"
      ],
      "metadata": {
        "id": "6jfaSoa68td7"
      },
      "execution_count": 3,
      "outputs": []
    },
    {
      "cell_type": "markdown",
      "source": [
        "Для проверк будем использовать граф из `networkx`."
      ],
      "metadata": {
        "id": "ISWDZbpbTQJJ"
      }
    },
    {
      "cell_type": "code",
      "source": [
        "G = nx.from_pandas_edgelist(df, source='user_id', target='friends').to_undirected()"
      ],
      "metadata": {
        "id": "eGypmVNwXOuU"
      },
      "execution_count": 4,
      "outputs": []
    },
    {
      "cell_type": "markdown",
      "source": [
        "# Исследование социального графа"
      ],
      "metadata": {
        "id": "tLKaH4hHUgoU"
      }
    },
    {
      "cell_type": "markdown",
      "source": [
        "## Узлы"
      ],
      "metadata": {
        "id": "H1Jd60ZYUkme"
      }
    },
    {
      "cell_type": "markdown",
      "source": [
        "Если граф представлен в виде смежной матрицы, то кол-во узлов графа — это просто число столбцов (или строк) матрицы."
      ],
      "metadata": {
        "id": "d83YW-njTbPz"
      }
    },
    {
      "cell_type": "code",
      "source": [
        "nodes = len(adj_max)\n",
        "nodes"
      ],
      "metadata": {
        "colab": {
          "base_uri": "https://localhost:8080/"
        },
        "id": "YGCO23TUUonT",
        "outputId": "62121d24-4c2a-43de-de31-bb5248c707f8"
      },
      "execution_count": 5,
      "outputs": [
        {
          "output_type": "execute_result",
          "data": {
            "text/plain": [
              "4096"
            ]
          },
          "metadata": {},
          "execution_count": 5
        }
      ]
    },
    {
      "cell_type": "markdown",
      "source": [
        "Проверка"
      ],
      "metadata": {
        "id": "DAxtk9g590jW"
      }
    },
    {
      "cell_type": "code",
      "source": [
        "G.number_of_nodes()"
      ],
      "metadata": {
        "colab": {
          "base_uri": "https://localhost:8080/"
        },
        "id": "mP1cGou-XddA",
        "outputId": "6e1df4a2-06fa-480c-a829-b7c11688141b"
      },
      "execution_count": 6,
      "outputs": [
        {
          "output_type": "execute_result",
          "data": {
            "text/plain": [
              "4096"
            ]
          },
          "metadata": {},
          "execution_count": 6
        }
      ]
    },
    {
      "cell_type": "markdown",
      "source": [
        "## Ребра"
      ],
      "metadata": {
        "id": "TnfgzF8KUpB0"
      }
    },
    {
      "cell_type": "markdown",
      "source": [
        "Если граф представлен в виде смежной матрицы, то кол-во ребер графа — это просто число ненулевых значений матрицы, деленное на два, чтобы учесть неориентированность графа. В связи с тем, что граф также не взвешенный, можно воспользоваться суммой."
      ],
      "metadata": {
        "id": "xdZTxDghTooB"
      }
    },
    {
      "cell_type": "code",
      "source": [
        "edges = adj_max.to_numpy().sum() / 2\n",
        "edges"
      ],
      "metadata": {
        "colab": {
          "base_uri": "https://localhost:8080/"
        },
        "id": "DjFEL9TCY0OI",
        "outputId": "ceb9d195-ca79-4727-f274-e0daccfb9833"
      },
      "execution_count": 7,
      "outputs": [
        {
          "output_type": "execute_result",
          "data": {
            "text/plain": [
              "4822.0"
            ]
          },
          "metadata": {},
          "execution_count": 7
        }
      ]
    },
    {
      "cell_type": "code",
      "source": [
        "G.number_of_edges()"
      ],
      "metadata": {
        "colab": {
          "base_uri": "https://localhost:8080/"
        },
        "id": "DN8V2kAtUsDz",
        "outputId": "db310e7b-d874-4ea2-eac7-c8e9a22ae02e"
      },
      "execution_count": 8,
      "outputs": [
        {
          "output_type": "execute_result",
          "data": {
            "text/plain": [
              "4822"
            ]
          },
          "metadata": {},
          "execution_count": 8
        }
      ]
    },
    {
      "cell_type": "markdown",
      "source": [
        "## Степени узлов"
      ],
      "metadata": {
        "id": "NxXvMstZ-Qln"
      }
    },
    {
      "cell_type": "markdown",
      "source": [
        "Если граф представлен в виде смежной матрицы, то степень узла — кол-во ненулевых значений в его столбце матрицы. В нашем случае можно воспользоваться суммой.\n",
        " \n"
      ],
      "metadata": {
        "id": "lgPwKX8oUDfl"
      }
    },
    {
      "cell_type": "code",
      "source": [
        "def get_node_degree(node, df):\n",
        "  return df[[node]].sum().item()"
      ],
      "metadata": {
        "id": "Rn7Dj91gASm9"
      },
      "execution_count": 9,
      "outputs": []
    },
    {
      "cell_type": "markdown",
      "source": [
        "Посчитаем степень каждой вершины и запишем её в словарь (это поможет далее)."
      ],
      "metadata": {
        "id": "rOVO3BxEUcIr"
      }
    },
    {
      "cell_type": "code",
      "source": [
        "degrees = defaultdict(int)\n",
        "\n",
        "for node in adj_max.columns:\n",
        "  degrees[node] = get_node_degree(node, adj_max)\n",
        "\n",
        "print(f'Минимальная: {min(degrees.values())}')\n",
        "print(f'Максимальная: {max(degrees.values())}')\n",
        "print(f'Средняя: {sum(degrees.values()) / edges}')"
      ],
      "metadata": {
        "colab": {
          "base_uri": "https://localhost:8080/"
        },
        "id": "F7fjTnzI-TCG",
        "outputId": "8b39eecd-7adb-49b7-99d0-44f8de1e104d"
      },
      "execution_count": 10,
      "outputs": [
        {
          "output_type": "stream",
          "name": "stdout",
          "text": [
            "Минимальная: 1.0\n",
            "Максимальная: 49.0\n",
            "Средняя: 2.0\n"
          ]
        }
      ]
    },
    {
      "cell_type": "markdown",
      "source": [
        "Проверка"
      ],
      "metadata": {
        "id": "AL5af9SX8LaT"
      }
    },
    {
      "cell_type": "code",
      "source": [
        "for node in G.nodes():\n",
        "  degrees[node] = G.degree(node)\n",
        "\n",
        "print(f'Минимальная: {min(degrees.values())}')\n",
        "print(f'Максимальная: {max(degrees.values())}')\n",
        "print(f'Средняя: {sum(degrees.values()) / edges}')"
      ],
      "metadata": {
        "colab": {
          "base_uri": "https://localhost:8080/"
        },
        "id": "v-Mw-C_q8MjO",
        "outputId": "af3146d3-7305-4763-e9e7-9baa89a6263f"
      },
      "execution_count": 13,
      "outputs": [
        {
          "output_type": "stream",
          "name": "stdout",
          "text": [
            "Минимальная: 1\n",
            "Максимальная: 49\n",
            "Средняя: 2.0\n"
          ]
        }
      ]
    },
    {
      "cell_type": "markdown",
      "source": [
        "## Плотность графа"
      ],
      "metadata": {
        "id": "_l7z9eFoVCms"
      }
    },
    {
      "cell_type": "markdown",
      "source": [
        "*Плотность графа — это отношение **реального** числа связей в графе к **максимально возможному** в неориентированном графе с тем же числом вершин.*"
      ],
      "metadata": {
        "id": "f7JihgGpZELd"
      }
    },
    {
      "cell_type": "markdown",
      "source": [
        "Максимальное число ребер — $\\frac{(N \\cdot (N-1))}{2}$, где $N$ - число вершин."
      ],
      "metadata": {
        "id": "hKOKgKxLZIB1"
      }
    },
    {
      "cell_type": "code",
      "source": [
        "edges / ((nodes * (nodes - 1)) / 2)"
      ],
      "metadata": {
        "colab": {
          "base_uri": "https://localhost:8080/"
        },
        "id": "uLugMK6AVFQV",
        "outputId": "c04dad40-d978-460d-fdd8-6929242f5d84"
      },
      "execution_count": 16,
      "outputs": [
        {
          "output_type": "execute_result",
          "data": {
            "text/plain": [
              "0.0005749675671550672"
            ]
          },
          "metadata": {},
          "execution_count": 16
        }
      ]
    },
    {
      "cell_type": "markdown",
      "source": [
        "Проверка"
      ],
      "metadata": {
        "id": "C_7R3euTXAmn"
      }
    },
    {
      "cell_type": "code",
      "source": [
        "nx.density(G)"
      ],
      "metadata": {
        "colab": {
          "base_uri": "https://localhost:8080/"
        },
        "id": "LwSbuSGWW5ET",
        "outputId": "83356d0d-b17c-463b-accb-b5578e0468d1"
      },
      "execution_count": 15,
      "outputs": [
        {
          "output_type": "execute_result",
          "data": {
            "text/plain": [
              "0.0005749675671550672"
            ]
          },
          "metadata": {},
          "execution_count": 15
        }
      ]
    },
    {
      "cell_type": "markdown",
      "source": [
        "## Компоненты Связности"
      ],
      "metadata": {
        "id": "O5QHGjY9-G0o"
      }
    },
    {
      "cell_type": "markdown",
      "source": [
        "Представим граф в виде словаря, где ключ — вершина (например, её id), а значение — соседи вершины. "
      ],
      "metadata": {
        "id": "vIsK_cnGVJHU"
      }
    },
    {
      "cell_type": "code",
      "source": [
        "nodes_ids = adj_max.columns\n",
        "users_graph = defaultdict(list)\n",
        "\n",
        "for node_1 in nodes_ids:\n",
        "  for node_2 in nodes_ids:\n",
        "    link = adj_max.loc[node_1, node_2]\n",
        "    if link == 1:\n",
        "      users_graph[node_1].append(node_2)"
      ],
      "metadata": {
        "id": "oatOcsltDhbB"
      },
      "execution_count": 17,
      "outputs": []
    },
    {
      "cell_type": "markdown",
      "source": [
        "Для нахождения компонентов связности воспользуемся поиском в глубину, который будет маркировать посещенные вершины. "
      ],
      "metadata": {
        "id": "dc_FgdwsVYMq"
      }
    },
    {
      "cell_type": "code",
      "source": [
        "def marked_dfs(v, num):\n",
        "  visited.add(v)\n",
        "  for node in users_graph[v]:\n",
        "    if node not in visited:\n",
        "      components[num].append(node)\n",
        "      marked_dfs(node, num)"
      ],
      "metadata": {
        "id": "U8eHfgMqCsoY"
      },
      "execution_count": 18,
      "outputs": []
    },
    {
      "cell_type": "markdown",
      "source": [
        "Пройдемся циклом по всем вершинам, пока все они не будут помечены."
      ],
      "metadata": {
        "id": "1IOMRCjbViv7"
      }
    },
    {
      "cell_type": "code",
      "source": [
        "components = {}\n",
        "visited = set()\n",
        "num = 0\n",
        "\n",
        "for node in users_graph:\n",
        "  if node not in visited:\n",
        "    num += 1\n",
        "    components[num] = []\n",
        "    components[num].append(node)\n",
        "    marked_dfs(node, num)\n",
        "\n",
        "num"
      ],
      "metadata": {
        "colab": {
          "base_uri": "https://localhost:8080/"
        },
        "id": "B4PgfbvaCplE",
        "outputId": "2d74b440-68c0-4f38-e228-c16ce60decfd"
      },
      "execution_count": 19,
      "outputs": [
        {
          "output_type": "execute_result",
          "data": {
            "text/plain": [
              "583"
            ]
          },
          "metadata": {},
          "execution_count": 19
        }
      ]
    },
    {
      "cell_type": "markdown",
      "source": [
        "По результат видно, что граф имеет несколько компонентов связности. Сл-но, можно сделать вывод, что в сообществах есть отдельные сообщества, которые не имеют прямых связей между друг другом."
      ],
      "metadata": {
        "id": "2jFmOq4jVqXc"
      }
    },
    {
      "cell_type": "markdown",
      "source": [
        "## Авторитетность пользователей"
      ],
      "metadata": {
        "id": "JoW1CmFUVB3v"
      }
    },
    {
      "cell_type": "markdown",
      "source": [
        "Существует много метрик для оценки центральности, то есть авторитетности пользователей:\n",
        "\n",
        "*   Степенная центральность;\n",
        "*   Центральность по близости;\n",
        "*   Центральность по посредничеству;\n",
        "*   Центральность по айген-вектору.\n",
        "\n",
        "\n",
        "Source: https://economics.hse.ru/data/2019/10/02/1543174776/ВлияниеСети-2019.pdf"
      ],
      "metadata": {
        "id": "WXiQXRvbbMoS"
      }
    },
    {
      "cell_type": "markdown",
      "source": [
        "Воспользуемся центральностью по посредничеству, то есть вершина, через которую проходит наибольшее число кратчайших путей, является наиболее центральной.\n",
        "\n",
        "Будем считать, что центральность — это авторитетность.\n",
        "\n",
        "Для нахождения центральности необходимо найти путь от каждый вершины до каждой другой (в рамках компоненты связности). Тем не менее, рассмотрим плохой случай, то есть один компонент связности. Время работы алгоритмов:\n",
        "1. BFS: $O((V+E) \\cdot V)$;\n",
        "2. Алгоритм Флойда — Уоршелла: $O(V^3)$\n",
        "Оба алгоритма при текущих $V$ и $E$ будут работать слишком долго, поэтому имеет смысл воспользоваться **алгоритмом Брандеса**, который имеет сложность $O(V \\cdot E)$.\n",
        "\n",
        "Source: https://doi.org/10.1080/0022250X.2001.9990249"
      ],
      "metadata": {
        "id": "zTYFHP1Xb2LL"
      }
    },
    {
      "cell_type": "code",
      "source": [
        "centrality = nx.betweenness_centrality(G)"
      ],
      "metadata": {
        "id": "mWnX7kLVAh1O"
      },
      "execution_count": 20,
      "outputs": []
    },
    {
      "cell_type": "code",
      "source": [
        "top = 5\n",
        "list(dict(sorted(centrality.items(), key = lambda x: x[1], reverse = True)[:top]).keys())"
      ],
      "metadata": {
        "colab": {
          "base_uri": "https://localhost:8080/"
        },
        "id": "96mSkpFNYeZm",
        "outputId": "65026266-aaf7-4c99-d3d7-e9871e5178f6"
      },
      "execution_count": 24,
      "outputs": [
        {
          "output_type": "execute_result",
          "data": {
            "text/plain": [
              "[560031848, 177402682, 223207837, 506826368, 166694577]"
            ]
          },
          "metadata": {},
          "execution_count": 24
        }
      ]
    },
    {
      "cell_type": "markdown",
      "source": [
        "## Модулярность графа"
      ],
      "metadata": {
        "id": "STJnyhgjVdf9"
      }
    },
    {
      "cell_type": "markdown",
      "source": [
        "*Модулярность — это скалярная величина из отрезка [−1, 1], которая количественно описывает неформальное определение структуры сообществ.* Метрика показывает, насколько при заданном разбиении графа на группы плотность связей внутри группы больше плотности связей между группами. С помощью этой метрики граф разбивается на сообщества.\n",
        "\n",
        "Полезная статья про pros and cons: http://www.machinelearning.ru/wiki/images/6/60/2015_417_SlavnovKA.pdf "
      ],
      "metadata": {
        "id": "IP9-ws3EZtWs"
      }
    },
    {
      "cell_type": "markdown",
      "source": [
        "$Q = \\frac{1}{2m} \\sum_{ij} (A_{ij} - \\gamma\\frac{k_ik_j}{2m}) \\cdot \\delta(c_i,c_j)$, где:\n",
        "\n",
        "\n",
        "*   $m$ — кол-во ребер графа;\n",
        "*   $\\gamma$ — сглаживающий параметр (часто берется за 1);\n",
        "*   $\\delta(x, y)$ — функция двух переменных, которая возвращает 1, если обе переменные принадлежат одному сообществу, иначе 0;\n",
        "*   $k_i$ — степень вершины.\n",
        "\n",
        "\n",
        "\n",
        "\n",
        "\n",
        "\n",
        "\n"
      ],
      "metadata": {
        "id": "_YjnZLQzYVWK"
      }
    },
    {
      "cell_type": "markdown",
      "source": [
        "Для расчета модулярности необходимо знать к какому классу относится та или иная нода."
      ],
      "metadata": {
        "id": "2p5j_Ktfv_7S"
      }
    },
    {
      "cell_type": "code",
      "source": [
        "communites = community_louvain.best_partition(G)"
      ],
      "metadata": {
        "id": "reI7RzNFVfOq"
      },
      "execution_count": 25,
      "outputs": []
    },
    {
      "cell_type": "code",
      "source": [
        "coms = defaultdict(list)\n",
        "for key, val in sorted(communites.items()):\n",
        "    coms[val].append(key)"
      ],
      "metadata": {
        "id": "Ge6ipf1_xicy"
      },
      "execution_count": 26,
      "outputs": []
    },
    {
      "cell_type": "code",
      "source": [
        "def com_delta(node1, node2):\n",
        "  return 1 if communites[node1] == communites[node2] else 0"
      ],
      "metadata": {
        "id": "T4gCfAWPABey"
      },
      "execution_count": 27,
      "outputs": []
    },
    {
      "cell_type": "code",
      "source": [
        "s = 0\n",
        "nodes = adj_max.columns\n",
        "\n",
        "for node_1 in nodes:\n",
        "  for node_2 in nodes:\n",
        "    if node_1 != node_2:\n",
        "      res = adj_max.loc[node_1, node_2]\n",
        "      s += (res - ((degrees[node_1] * degrees[node_2]) / (2 * edges))) * com_delta(node_1, node_2)\n",
        "\n",
        "modularity = (1 / (2 * edges)) * s\n",
        "modularity"
      ],
      "metadata": {
        "colab": {
          "base_uri": "https://localhost:8080/"
        },
        "id": "LiwSvK_xAH9Z",
        "outputId": "5ba8d719-86c4-4dc4-ab8e-8877609a5d8c"
      },
      "execution_count": 30,
      "outputs": [
        {
          "output_type": "execute_result",
          "data": {
            "text/plain": [
              "0.8829154051802248"
            ]
          },
          "metadata": {},
          "execution_count": 30
        }
      ]
    },
    {
      "cell_type": "markdown",
      "source": [
        "Проверка"
      ],
      "metadata": {
        "id": "po_uZ6k0_nZi"
      }
    },
    {
      "cell_type": "code",
      "source": [
        "nx_comm.modularity(G, coms.values())"
      ],
      "metadata": {
        "colab": {
          "base_uri": "https://localhost:8080/"
        },
        "id": "0FJRaGGSx0lM",
        "outputId": "ae43db3b-b676-4416-c2b4-29b5d51822f2"
      },
      "execution_count": 31,
      "outputs": [
        {
          "output_type": "execute_result",
          "data": {
            "text/plain": [
              "0.8824309671505924"
            ]
          },
          "metadata": {},
          "execution_count": 31
        }
      ]
    },
    {
      "cell_type": "markdown",
      "source": [
        "Проверка может несколько отличаться, так как существует упрощенная (но приближенная) формула для расчета модулярности:\n",
        "\n",
        "$Q = \\sum_{c=1}^n [\\frac{L_c}{m} - \\gamma(\\frac{k_c}{2m})^2]$, где:\n",
        "\n",
        "*   $m$ — кол-во ребер графа;\n",
        "*   $\\gamma$ — сглаживающий параметр (часто берется за 1);\n",
        "*   $с$ — индекс сообщества;\n",
        "*   $k_c$ — сумма степеней вершин сообщества $c$;\n",
        "*   $L_с$ — число внутренних связей сообщества;"
      ],
      "metadata": {
        "id": "5KijAuAwaRse"
      }
    },
    {
      "cell_type": "markdown",
      "source": [
        "# Выводы"
      ],
      "metadata": {
        "id": "uvhAs7Uygltv"
      }
    },
    {
      "cell_type": "markdown",
      "source": [
        "Были изучены основные характеристики соц. графа."
      ],
      "metadata": {
        "id": "b-Qcklg4gnIV"
      }
    }
  ]
}